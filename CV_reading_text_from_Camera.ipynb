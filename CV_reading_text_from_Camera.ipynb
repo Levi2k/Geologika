{
 "cells": [
  {
   "cell_type": "markdown",
   "id": "087b7776",
   "metadata": {},
   "source": [
    "## Camera_text\n",
    "The algorithm was developed to read th text on the object using camera. There is an opportunity to use different image filters to improoving result. All filters are writed into methods, so for changing the image you can just call it.\n"
   ]
  },
  {
   "cell_type": "markdown",
   "id": "3b3c3f70",
   "metadata": {},
   "source": [
    "#### Import"
   ]
  },
  {
   "cell_type": "code",
   "execution_count": 1,
   "id": "c38e0321",
   "metadata": {},
   "outputs": [],
   "source": [
    "import os, glob, time\n",
    "import numpy as np\n",
    "\n",
    "import cv2\n",
    "# from cv2 import aruco\n",
    "from io import BytesIO\n",
    "import pytesseract\n",
    "from Levenshtein import distance\n",
    "import PIL.Image\n",
    "import matplotlib as mpl\n",
    "import matplotlib.pyplot as plt\n",
    "import matplotlib.patches as patches\n",
    "import IPython.display\n",
    "import imutils\n",
    "# from cam_module import cam\n",
    "import json, codecs"
   ]
  },
  {
   "cell_type": "markdown",
   "id": "ec3317b3",
   "metadata": {},
   "source": [
    "#### Open Pytesseract"
   ]
  },
  {
   "cell_type": "code",
   "execution_count": 2,
   "id": "636b1935",
   "metadata": {},
   "outputs": [],
   "source": [
    "pytesseract.pytesseract.tesseract_cmd = r'C:\\Users\\user\\Tesseract-OCR\\tesseract.exe'"
   ]
  },
  {
   "cell_type": "markdown",
   "id": "855280d8",
   "metadata": {},
   "source": [
    "#### Methods for using different image filters on frames"
   ]
  },
  {
   "cell_type": "code",
   "execution_count": 3,
   "id": "add2ce31",
   "metadata": {},
   "outputs": [],
   "source": [
    "t0 = time.time()\n",
    "def array_to_image(a, fmt='jpeg'):\n",
    "    f = BytesIO()    \n",
    "    PIL.Image.fromarray(a).save(f, fmt)    \n",
    "    return IPython.display.Image(data=f.getvalue())\n",
    "def Changing(photo):\n",
    "    thresh = 205\n",
    "    img_blur = cv2.GaussianBlur(photo, (5, 5), 0)\n",
    "    image_BlN = cv2.medianBlur(img_blur, 7)\n",
    "    #img_res = cv2.threshold(image_BlN, thresh, 255, cv2.THRESH_BINARY)\n",
    "    return image_BlN\n",
    "def kontrast (photo):\n",
    "    return cv2.threshold(photo,0,255,cv2.THRESH_BINARY+cv2.THRESH_OTSU)[1]\n",
    "def kontrast_usual (photo):\n",
    "    thresh = 25\n",
    "    return cv2.threshold(photo, thresh, 200, cv2.THRESH_BINARY)[1]\n",
    "def blur(photo):\n",
    "    return cv2.GaussianBlur(photo, (5, 5), 0)"
   ]
  },
  {
   "cell_type": "markdown",
   "id": "a02aaa5d",
   "metadata": {},
   "source": [
    "#### Script for text detection with the opportunity for using different filters on frames"
   ]
  },
  {
   "cell_type": "code",
   "execution_count": null,
   "id": "53598411",
   "metadata": {
    "scrolled": false
   },
   "outputs": [
    {
     "data": {
      "image/jpeg": "[encoded data removed]",
      "text/plain": [
       "<IPython.core.display.Image object>"
      ]
     },
     "metadata": {},
     "output_type": "display_data"
    },
    {
     "data": {
      "text/plain": [
       "''"
      ]
     },
     "metadata": {},
     "output_type": "display_data"
    }
   ],
   "source": [
    "\n",
    "# Load camera calibration parameters\n",
    "\n",
    "IMAGE_SHAPE = (720, 1280, 3) #\n",
    "# IMAGE_SHAPE = (1080, 1920, 3)\n",
    "# video capture object\n",
    "cam_idx = 0\n",
    "cams = {\n",
    "    cam_idx:cv2.VideoCapture(cam_idx)\n",
    "}\n",
    "# jupyter displays\n",
    "d0 = IPython.display.display(None, display_id=3)\n",
    "d1 = IPython.display.display(None, display_id=4)\n",
    "\n",
    "fps = 5.0\n",
    "frame_idx = 0\n",
    "motion = False\n",
    "motion_prev = False\n",
    "post_motion_rec = False\n",
    "motion_timeout = 5.0\n",
    "record_timeout = 2.0\n",
    "frameDelta = np.zeros(IMAGE_SHAPE[:2])\n",
    "while True: \n",
    "    try:        \n",
    "        \n",
    "        if time.time() - t0 > 1/fps:\n",
    "            t0 = time.time()   \n",
    "\n",
    "            ret, frame = cams[cam_idx].read()\n",
    "            if frame is None:\n",
    "                continue\n",
    "                \n",
    "            # ------ CODE\n",
    "\n",
    "            ground = 'Tesseract Sample'\n",
    "            #img = cv2.cvtColor(frame, cv2.COLOR_BGR2RGB)\n",
    "            img = cv2.cvtColor(frame, cv2.COLOR_BGR2GRAY)\n",
    "            #img = frame\n",
    "            #img = cv2.bilateralFilter(5,25,25)\n",
    "            img = blur(img)\n",
    "            #img = cv2.GaussianBlur(img, (5, 5), 0)\n",
    "            #img = Changing(img)\n",
    "            #img = kontrast_usual (img)\n",
    "            #img = kontrast(img)\n",
    "            #img = cv2.cvtColor(img, cv2.COLOR_BGR2GRAY)\n",
    "            #img = cv2.threshold(img,127,255,cv2.THRESH_BINARY)[1]\n",
    "            \n",
    "#             d = pytesseract.image_to_data(img, lang='rus', output_type=pytesseract.Output.DICT)\n",
    "            text = pytesseract.image_to_string(img, lang = 'rus')\n",
    "            \n",
    "#             n_boxes = len(d['level'])\n",
    "#             text = ''\n",
    "#             for i in range(n_boxes):\n",
    "#                 (x, y, w, h) = (d['left'][i], d['top'][i], d['width'][i], d['height'][i])\n",
    "#                 cv2.rectangle(img, (x, y), (x + w, y + h), (0, 255, 0), 2)\n",
    "#             text+= ' '.join(d['text'])+' '\n",
    "#             print(text)\n",
    "            # ------ CODE\n",
    "            d0.update(array_to_image(frame))    \n",
    "            d1.update( text )  \n",
    "            frame_idx = (frame_idx+1) % 1024\n",
    "    except KeyboardInterrupt:\n",
    "        break\n",
    "    except Exception as e:\n",
    "        raise e\n",
    "cams[cam_idx].release()"
   ]
  },
  {
   "cell_type": "code",
   "execution_count": null,
   "id": "4221ba69",
   "metadata": {},
   "outputs": [],
   "source": []
  }
 ],
 "metadata": {
  "kernelspec": {
   "display_name": "Python 3 (ipykernel)",
   "language": "python",
   "name": "python3"
  },
  "language_info": {
   "codemirror_mode": {
    "name": "ipython",
    "version": 3
   },
   "file_extension": ".py",
   "mimetype": "text/x-python",
   "name": "python",
   "nbconvert_exporter": "python",
   "pygments_lexer": "ipython3",
   "version": "3.9.12"
  }
 },
 "nbformat": 4,
 "nbformat_minor": 5
}
